{
 "cells": [
  {
   "cell_type": "markdown",
   "metadata": {},
   "source": [
    "## Big Data Quiz 2\n",
    "### Submitted By: Stuti Sanghavi"
   ]
  },
  {
   "cell_type": "markdown",
   "metadata": {},
   "source": [
    "### Desired Output: Get the final output of  <unique-word, frequency>"
   ]
  },
  {
   "cell_type": "code",
   "execution_count": 1,
   "metadata": {},
   "outputs": [],
   "source": [
    "# Importing the required packages\n",
    "import sys\n",
    "from pyspark.sql import SparkSession"
   ]
  },
  {
   "cell_type": "code",
   "execution_count": 2,
   "metadata": {
    "scrolled": false
   },
   "outputs": [
    {
     "name": "stdout",
     "output_type": "stream",
     "text": [
      "+-----+\n",
      "|hello|\n",
      "+-----+\n",
      "|spark|\n",
      "+-----+\n",
      "\n"
     ]
    }
   ],
   "source": [
    "spark = SparkSession.builder.getOrCreate()\n",
    "\n",
    "# Checking if spark session is working\n",
    "df = spark.sql('''select 'spark' as hello ''')\n",
    "df.show()"
   ]
  },
  {
   "cell_type": "code",
   "execution_count": 11,
   "metadata": {},
   "outputs": [],
   "source": [
    "# Reading in the foxy text file\n",
    "recs = spark.sparkContext.textFile('foxy.txt')\n",
    "#recs = spark.sparkContext.textFile.parallelize('foxy.txt')"
   ]
  },
  {
   "cell_type": "code",
   "execution_count": 15,
   "metadata": {},
   "outputs": [
    {
     "data": {
      "text/plain": [
       "6"
      ]
     },
     "execution_count": 15,
     "metadata": {},
     "output_type": "execute_result"
    }
   ],
   "source": [
    "# Check the data type of the file\n",
    "type(recs)\n",
    "recs.count()"
   ]
  },
  {
   "cell_type": "code",
   "execution_count": 13,
   "metadata": {},
   "outputs": [
    {
     "data": {
      "text/plain": [
       "['a Fox jumped high and high and jumped and jumped',\n",
       " 'fox of red jumped',\n",
       " 'fox of blue jumped',\n",
       " 'a Fox is a red fox of hen',\n",
       " 'a fox is a high fox',\n",
       " 'orange fox is high and blue and blue']"
      ]
     },
     "execution_count": 13,
     "metadata": {},
     "output_type": "execute_result"
    }
   ],
   "source": [
    "# Displaying the data\n",
    "recs.collect()"
   ]
  },
  {
   "cell_type": "code",
   "execution_count": 7,
   "metadata": {},
   "outputs": [
    {
     "data": {
      "text/plain": [
       "6"
      ]
     },
     "execution_count": 7,
     "metadata": {},
     "output_type": "execute_result"
    }
   ],
   "source": [
    "# Checking the number of rows/elements in the data\n",
    "recs.count()"
   ]
  },
  {
   "cell_type": "code",
   "execution_count": 9,
   "metadata": {},
   "outputs": [
    {
     "data": {
      "text/plain": [
       "['a', 'fox']"
      ]
     },
     "execution_count": 9,
     "metadata": {},
     "output_type": "execute_result"
    }
   ],
   "source": [
    "# Converting all words into lower case and splitting into single words\n",
    "words = recs.flatMap(lambda x: x.lower().split(\" \"))\n",
    "\n",
    "# Displaying the first two words to check if the above command worked\n",
    "words.take(2)"
   ]
  },
  {
   "cell_type": "code",
   "execution_count": 8,
   "metadata": {},
   "outputs": [
    {
     "data": {
      "text/plain": [
       "40"
      ]
     },
     "execution_count": 8,
     "metadata": {},
     "output_type": "execute_result"
    }
   ],
   "source": [
    "# Total words after splitting the recs\n",
    "words.count()"
   ]
  },
  {
   "cell_type": "code",
   "execution_count": 12,
   "metadata": {},
   "outputs": [
    {
     "data": {
      "text/plain": [
       "['fox', 'jumped', 'high', 'and', 'high']"
      ]
     },
     "execution_count": 12,
     "metadata": {},
     "output_type": "execute_result"
    }
   ],
   "source": [
    "#Filtering for words greater than length 2\n",
    "words_filtered = words.filter(lambda x: len(x) > 2)\n",
    "\n",
    "# Displaying the first two words to check if words less than length 2 were filtered out\n",
    "words_filtered.take(5)"
   ]
  },
  {
   "cell_type": "code",
   "execution_count": 10,
   "metadata": {},
   "outputs": [
    {
     "data": {
      "text/plain": [
       "29"
      ]
     },
     "execution_count": 10,
     "metadata": {},
     "output_type": "execute_result"
    }
   ],
   "source": [
    "# Getting the total count of filtered words\n",
    "words_filtered.count()"
   ]
  },
  {
   "cell_type": "code",
   "execution_count": 13,
   "metadata": {},
   "outputs": [
    {
     "data": {
      "text/plain": [
       "[('fox', 1),\n",
       " ('jumped', 1),\n",
       " ('high', 1),\n",
       " ('and', 1),\n",
       " ('high', 1),\n",
       " ('and', 1),\n",
       " ('jumped', 1),\n",
       " ('and', 1),\n",
       " ('jumped', 1),\n",
       " ('fox', 1),\n",
       " ('red', 1),\n",
       " ('jumped', 1),\n",
       " ('fox', 1),\n",
       " ('blue', 1),\n",
       " ('jumped', 1),\n",
       " ('fox', 1),\n",
       " ('red', 1),\n",
       " ('fox', 1),\n",
       " ('hen', 1),\n",
       " ('fox', 1),\n",
       " ('high', 1),\n",
       " ('fox', 1),\n",
       " ('orange', 1),\n",
       " ('fox', 1),\n",
       " ('high', 1),\n",
       " ('and', 1),\n",
       " ('blue', 1),\n",
       " ('and', 1),\n",
       " ('blue', 1)]"
      ]
     },
     "execution_count": 13,
     "metadata": {},
     "output_type": "execute_result"
    }
   ],
   "source": [
    "#Creating key value pairs\n",
    "pairs = words_filtered.map(lambda x: (x,1))\n",
    "\n",
    "# Verifying results\n",
    "pairs.collect()"
   ]
  },
  {
   "cell_type": "code",
   "execution_count": 12,
   "metadata": {},
   "outputs": [
    {
     "data": {
      "text/plain": [
       "[('high', 4),\n",
       " ('hen', 1),\n",
       " ('orange', 1),\n",
       " ('fox', 8),\n",
       " ('jumped', 5),\n",
       " ('and', 5),\n",
       " ('red', 2),\n",
       " ('blue', 3)]"
      ]
     },
     "execution_count": 12,
     "metadata": {},
     "output_type": "execute_result"
    }
   ],
   "source": [
    "#Getting the frequency of the words by reducer\n",
    "word_freq = pairs.reduceByKey(lambda a, b: a+b)\n",
    "\n",
    "# Displaying the words and their frequency \n",
    "word_freq.collect()"
   ]
  },
  {
   "cell_type": "code",
   "execution_count": 13,
   "metadata": {},
   "outputs": [
    {
     "data": {
      "text/plain": [
       "[('high', 4), ('fox', 8), ('jumped', 5), ('and', 5), ('blue', 3)]"
      ]
     },
     "execution_count": 13,
     "metadata": {},
     "output_type": "execute_result"
    }
   ],
   "source": [
    "#Removing words with frequency less than 3 to get the desired output\n",
    "final_word_freq = word_freq.filter(lambda x: x[1] >= 3)\n",
    "\n",
    "# Displaying the final output after handling words with length less than 3\n",
    "final_word_freq.collect()"
   ]
  }
 ],
 "metadata": {
  "kernelspec": {
   "display_name": "Python 3",
   "language": "python",
   "name": "python3"
  },
  "language_info": {
   "codemirror_mode": {
    "name": "ipython",
    "version": 3
   },
   "file_extension": ".py",
   "mimetype": "text/x-python",
   "name": "python",
   "nbconvert_exporter": "python",
   "pygments_lexer": "ipython3",
   "version": "3.7.4"
  }
 },
 "nbformat": 4,
 "nbformat_minor": 2
}
