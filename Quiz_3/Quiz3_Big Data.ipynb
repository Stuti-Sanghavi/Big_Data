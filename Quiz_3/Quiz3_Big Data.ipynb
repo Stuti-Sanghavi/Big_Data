{
 "cells": [
  {
   "cell_type": "code",
   "execution_count": 1,
   "metadata": {},
   "outputs": [],
   "source": [
    "# Importing the required packages\n",
    "import sys\n",
    "from pyspark.sql import SparkSession\n",
    "\n",
    "from math import sqrt\n"
   ]
  },
  {
   "cell_type": "code",
   "execution_count": 2,
   "metadata": {
    "scrolled": false
   },
   "outputs": [
    {
     "name": "stdout",
     "output_type": "stream",
     "text": [
      "+-----+\n",
      "|hello|\n",
      "+-----+\n",
      "|spark|\n",
      "+-----+\n",
      "\n"
     ]
    }
   ],
   "source": [
    "spark = SparkSession.builder.getOrCreate()\n",
    "\n",
    "# Checking if spark session is working\n",
    "df = spark.sql('''select 'spark' as hello ''')\n",
    "df.show()"
   ]
  },
  {
   "cell_type": "code",
   "execution_count": 3,
   "metadata": {},
   "outputs": [],
   "source": [
    "sc = spark.sparkContext"
   ]
  },
  {
   "cell_type": "code",
   "execution_count": 4,
   "metadata": {},
   "outputs": [],
   "source": [
    "#Importing raw data into an RDD\n",
    "rdd = sc.textFile(\"customers_books.txt\")"
   ]
  },
  {
   "cell_type": "code",
   "execution_count": 5,
   "metadata": {},
   "outputs": [
    {
     "data": {
      "text/plain": [
       "['u1:book1', 'u1:book2', 'u1:book2', 'u1:book3', 'u1:book3']"
      ]
     },
     "execution_count": 5,
     "metadata": {},
     "output_type": "execute_result"
    }
   ],
   "source": [
    "#Check the imported data\n",
    "rdd.take(5)"
   ]
  },
  {
   "cell_type": "code",
   "execution_count": 6,
   "metadata": {},
   "outputs": [
    {
     "data": {
      "text/plain": [
       "77"
      ]
     },
     "execution_count": 6,
     "metadata": {},
     "output_type": "execute_result"
    }
   ],
   "source": [
    "#Step 1. Remove duplicates\n",
    "rdd_distinct = rdd.distinct()\n",
    "rdd_distinct.take(5)\n",
    "rdd_distinct.count()"
   ]
  },
  {
   "cell_type": "markdown",
   "metadata": {},
   "source": [
    "## Step 2 - Create similarity Matrix"
   ]
  },
  {
   "cell_type": "code",
   "execution_count": 7,
   "metadata": {},
   "outputs": [],
   "source": [
    "#Creating a list of unique users in the data\n",
    "users = rdd_distinct.map(lambda x: (x.split(\":\")[0])).distinct().collect()\n",
    "#users"
   ]
  },
  {
   "cell_type": "code",
   "execution_count": 8,
   "metadata": {},
   "outputs": [],
   "source": [
    "#Creating a mapper function to generate key value pairs for each record\n",
    "#Key - Book\n",
    "#Value - User list with 1 and 0 for purchase or not\n",
    "#For example (u1:book1) ==> (Book number, user vector) ==> (1, [0, 0, 0, 0, 0, 0, 0, 1, 0, 0, 0, 0, 0, 0])\n",
    "def mapper_book_user(x):\n",
    "    tokens = x.split(\":\")\n",
    "    purchase = []\n",
    "    for user in users:\n",
    "        if user == tokens[0]:\n",
    "            purchase.append(1)\n",
    "        else:\n",
    "            purchase.append(0)\n",
    "    return (int(tokens[1][4:]), purchase)\n",
    "\n",
    "#mapper_book_user(\"u1:book1\")"
   ]
  },
  {
   "cell_type": "code",
   "execution_count": 9,
   "metadata": {},
   "outputs": [
    {
     "data": {
      "text/plain": [
       "[(2, [0, 0, 0, 0, 0, 0, 0, 1, 0, 0, 0, 0, 0, 0]),\n",
       " (3, [0, 0, 0, 0, 0, 0, 0, 1, 0, 0, 0, 0, 0, 0]),\n",
       " (4, [0, 0, 0, 0, 0, 0, 0, 1, 0, 0, 0, 0, 0, 0]),\n",
       " (5, [0, 0, 0, 0, 0, 0, 0, 1, 0, 0, 0, 0, 0, 0]),\n",
       " (0, [0, 0, 0, 0, 0, 0, 0, 0, 1, 0, 0, 0, 0, 0])]"
      ]
     },
     "execution_count": 9,
     "metadata": {},
     "output_type": "execute_result"
    }
   ],
   "source": [
    "#Create an rdd after applying the above mapper function\n",
    "rdd_book_vector = rdd_distinct.map(mapper_book_user)\n",
    "rdd_book_vector.take(5)"
   ]
  },
  {
   "cell_type": "code",
   "execution_count": 10,
   "metadata": {},
   "outputs": [],
   "source": [
    "#Reducer to create one user vector for each book number\n",
    "def list_add(x,y):\n",
    "    l = []\n",
    "    for a,b in zip(x,y):\n",
    "        l.append(a+b)\n",
    "    return l"
   ]
  },
  {
   "cell_type": "code",
   "execution_count": 11,
   "metadata": {},
   "outputs": [
    {
     "data": {
      "text/plain": [
       "[(2, [1, 1, 1, 1, 0, 0, 1, 1, 1, 1, 1, 0, 0, 0]),\n",
       " (4, [0, 0, 0, 0, 0, 0, 0, 1, 0, 0, 1, 0, 0, 0])]"
      ]
     },
     "execution_count": 11,
     "metadata": {},
     "output_type": "execute_result"
    }
   ],
   "source": [
    "#Create an RDD which has each book and its corresponding aggregated user vector \n",
    "rdd_book_vector_f = rdd_book_vector.reduceByKey(lambda a, b: list_add(a, b))\n",
    "rdd_book_vector_f.take(2)"
   ]
  },
  {
   "cell_type": "code",
   "execution_count": 12,
   "metadata": {},
   "outputs": [],
   "source": [
    "#Defining a function to calculate phi correlation for two lists\n",
    "def phi_corr(x, y):\n",
    "    a = 0\n",
    "    b = 0\n",
    "    c = 0\n",
    "    d = 0\n",
    "    for i in range(0,len(x)):\n",
    "        if ((x[i] == y[i]) & (x[i] == 1)):\n",
    "            a=a+1\n",
    "        elif ((x[i] == y[i]) & (x[i] == 0)):\n",
    "            d=d+1\n",
    "        elif ((x[i] != y[i]) & (x[i] == 1)):\n",
    "            b=b+1\n",
    "        else:\n",
    "            c=c+1\n",
    "    phi = (a*d - b*c)/sqrt((a+b)*(c+d)*(a+c)*(b+d))\n",
    "\n",
    "    return phi"
   ]
  },
  {
   "cell_type": "code",
   "execution_count": 13,
   "metadata": {},
   "outputs": [],
   "source": [
    "#1 sided cartesian product\n",
    "rdd_book_1side_cartesian = rdd_book_vector_f.cartesian(rdd_book_vector_f).filter(lambda x: x[0][0] < x[1][0])\n",
    "\n",
    "#calculating phi correlation and part 1 output - (Book1, Book2, phi-correlation)\n",
    "similarity_matrix = rdd_book_1side_cartesian.map(lambda x: (x[0][0], x[1][0], phi_corr(x[0][1], x[1][1])))\n"
   ]
  },
  {
   "cell_type": "code",
   "execution_count": 14,
   "metadata": {},
   "outputs": [
    {
     "data": {
      "text/plain": [
       "[((2, [1, 1, 1, 1, 0, 0, 1, 1, 1, 1, 1, 0, 0, 0]),\n",
       "  (4, [0, 0, 0, 0, 0, 0, 0, 1, 0, 0, 1, 0, 0, 0])),\n",
       " ((2, [1, 1, 1, 1, 0, 0, 1, 1, 1, 1, 1, 0, 0, 0]),\n",
       "  (6, [0, 0, 1, 0, 0, 0, 0, 1, 1, 1, 0, 0, 0, 1]))]"
      ]
     },
     "execution_count": 14,
     "metadata": {},
     "output_type": "execute_result"
    }
   ],
   "source": [
    "rdd_book_1side_cartesian.take(2)"
   ]
  },
  {
   "cell_type": "code",
   "execution_count": 15,
   "metadata": {},
   "outputs": [
    {
     "data": {
      "text/plain": [
       "[(2, 4, 0.3042903097250923), (2, 6, 0.24444444444444444)]"
      ]
     },
     "execution_count": 15,
     "metadata": {},
     "output_type": "execute_result"
    }
   ],
   "source": [
    "similarity_matrix.take(2)"
   ]
  },
  {
   "cell_type": "code",
   "execution_count": 16,
   "metadata": {},
   "outputs": [
    {
     "data": {
      "text/plain": [
       "[(2, 4, 0.3042903097250923),\n",
       " (2, 6, 0.24444444444444444),\n",
       " (2, 10, 0.20672455764868078),\n",
       " (2, 12, -0.4472135954999579),\n",
       " (2, 16, -0.3373495424699933),\n",
       " (2, 18, -0.3721042037676254),\n",
       " (2, 22, -0.12171612389003691),\n",
       " (0, 2, 0.3892494720807615),\n",
       " (0, 4, -0.21320071635561044),\n",
       " (4, 6, 0.12171612389003691),\n",
       " (4, 10, -0.11322770341445956),\n",
       " (4, 12, -0.40824829046386296),\n",
       " (4, 16, -0.21320071635561044),\n",
       " (0, 6, 0.3373495424699933),\n",
       " (0, 10, -0.14484136487558028),\n",
       " (0, 12, -0.17407765595569785),\n",
       " (0, 16, 0.15151515151515152),\n",
       " (4, 18, -0.11322770341445956),\n",
       " (4, 22, -0.16666666666666666),\n",
       " (0, 18, -0.14484136487558028),\n",
       " (0, 22, -0.21320071635561044),\n",
       " (6, 10, 0.3721042037676254),\n",
       " (6, 12, 0.14907119849998599),\n",
       " (6, 16, -0.025949964805384102),\n",
       " (10, 12, 0.2773500981126146),\n",
       " (10, 16, -0.14484136487558028),\n",
       " (12, 16, 0.5222329678670935),\n",
       " (6, 18, -0.20672455764868078),\n",
       " (6, 22, -0.3042903097250923),\n",
       " (10, 18, -0.07692307692307693),\n",
       " (10, 22, -0.11322770341445956),\n",
       " (12, 18, -0.2773500981126146),\n",
       " (12, 22, 0.40824829046386296),\n",
       " (16, 18, -0.14484136487558028),\n",
       " (16, 22, -0.21320071635561044),\n",
       " (18, 22, -0.11322770341445956),\n",
       " (2, 3, 0.34426518632954817),\n",
       " (2, 5, 0.7453559924999299),\n",
       " (2, 7, 0.3042903097250923),\n",
       " (2, 9, 0.6454972243679028),\n",
       " (2, 11, -0.25819888974716115),\n",
       " (2, 15, -0.5477225575051662),\n",
       " (2, 13, 0.20672455764868078),\n",
       " (2, 17, 0.20672455764868078),\n",
       " (2, 19, -0.5477225575051662),\n",
       " (2, 23, 0.20672455764868078),\n",
       " (2, 31, -0.3721042037676254),\n",
       " (2, 61, -0.3721042037676254),\n",
       " (2, 21, -0.12171612389003691),\n",
       " (0, 3, -0.10050378152592121),\n",
       " (4, 5, 0.40824829046386296),\n",
       " (4, 7, 0.4166666666666667),\n",
       " (0, 5, 0.17407765595569785),\n",
       " (0, 7, 0.2842676218074806),\n",
       " (4, 9, 0.47140452079103173),\n",
       " (4, 11, 0.05892556509887897),\n",
       " (4, 15, -0.16666666666666666),\n",
       " (4, 13, -0.11322770341445956),\n",
       " (0, 9, 0.6030226891555273),\n",
       " (0, 11, -0.45226701686664544),\n",
       " (0, 15, -0.21320071635561044),\n",
       " (0, 13, 0.5310850045437943),\n",
       " (4, 17, -0.11322770341445956),\n",
       " (4, 19, -0.16666666666666666),\n",
       " (4, 23, -0.11322770341445956),\n",
       " (4, 31, -0.11322770341445956),\n",
       " (4, 61, -0.11322770341445956),\n",
       " (4, 21, -0.16666666666666666),\n",
       " (0, 17, 0.5310850045437943),\n",
       " (0, 19, -0.21320071635561044),\n",
       " (0, 23, -0.14484136487558028),\n",
       " (0, 31, -0.14484136487558028),\n",
       " (0, 61, -0.14484136487558028),\n",
       " (0, 1, -0.10050378152592121),\n",
       " (0, 21, -0.21320071635561044),\n",
       " (6, 7, 0.5477225575051662),\n",
       " (6, 9, 0.25819888974716115),\n",
       " (6, 11, -0.04303314829119352),\n",
       " (6, 15, -0.3042903097250923),\n",
       " (6, 13, 0.3721042037676254),\n",
       " (10, 11, 0.32025630761017426),\n",
       " (10, 15, -0.11322770341445956),\n",
       " (10, 13, -0.07692307692307693),\n",
       " (12, 15, 0.40824829046386296),\n",
       " (12, 13, 0.2773500981126146),\n",
       " (6, 17, 0.3721042037676254),\n",
       " (6, 19, -0.3042903097250923),\n",
       " (6, 23, -0.20672455764868078),\n",
       " (6, 31, 0.3721042037676254),\n",
       " (6, 61, 0.3721042037676254),\n",
       " (6, 21, -0.3042903097250923),\n",
       " (10, 17, -0.07692307692307693),\n",
       " (10, 19, -0.11322770341445956),\n",
       " (10, 23, -0.07692307692307693),\n",
       " (10, 31, -0.07692307692307693),\n",
       " (10, 61, -0.07692307692307693),\n",
       " (10, 21, -0.11322770341445956),\n",
       " (12, 17, -0.2773500981126146),\n",
       " (12, 19, 0.0),\n",
       " (12, 23, 0.2773500981126146),\n",
       " (12, 31, 0.2773500981126146),\n",
       " (12, 61, 0.2773500981126146),\n",
       " (12, 21, 0.40824829046386296),\n",
       " (16, 17, -0.14484136487558028),\n",
       " (16, 19, -0.21320071635561044),\n",
       " (16, 23, -0.14484136487558028),\n",
       " (16, 31, -0.14484136487558028),\n",
       " (16, 61, -0.14484136487558028),\n",
       " (16, 21, -0.21320071635561044),\n",
       " (18, 19, 0.6793662204867574),\n",
       " (18, 23, -0.07692307692307693),\n",
       " (18, 31, -0.07692307692307693),\n",
       " (18, 61, -0.07692307692307693),\n",
       " (18, 21, -0.11322770341445956),\n",
       " (22, 23, 0.6793662204867574),\n",
       " (22, 31, -0.11322770341445956),\n",
       " (22, 61, -0.11322770341445956),\n",
       " (3, 4, 0.05892556509887897),\n",
       " (3, 6, -0.04303314829119352),\n",
       " (3, 10, -0.24019223070763068),\n",
       " (3, 12, -0.28867513459481287),\n",
       " (3, 16, -0.45226701686664544),\n",
       " (3, 18, -0.24019223070763068),\n",
       " (3, 22, 0.05892556509887897),\n",
       " (5, 6, 0.14907119849998599),\n",
       " (5, 10, 0.2773500981126146),\n",
       " (5, 12, -0.42857142857142855),\n",
       " (5, 16, -0.17407765595569785),\n",
       " (7, 10, -0.11322770341445956),\n",
       " (7, 12, -0.40824829046386296),\n",
       " (7, 16, -0.21320071635561044),\n",
       " (5, 18, -0.2773500981126146),\n",
       " (5, 22, -0.40824829046386296),\n",
       " (7, 18, -0.11322770341445956),\n",
       " (7, 22, -0.16666666666666666),\n",
       " (9, 10, -0.24019223070763068),\n",
       " (9, 12, -0.5773502691896257),\n",
       " (9, 16, -0.10050378152592121),\n",
       " (11, 12, 0.28867513459481287),\n",
       " (11, 16, -0.10050378152592121),\n",
       " (15, 16, 0.7817359599705717),\n",
       " (13, 16, 0.5310850045437943),\n",
       " (9, 18, -0.24019223070763068),\n",
       " (9, 22, -0.3535533905932738),\n",
       " (11, 18, 0.32025630761017426),\n",
       " (11, 22, 0.47140452079103173),\n",
       " (15, 18, -0.11322770341445956),\n",
       " (15, 22, -0.16666666666666666),\n",
       " (13, 18, -0.07692307692307693),\n",
       " (13, 22, -0.11322770341445956),\n",
       " (1, 2, 0.34426518632954817),\n",
       " (1, 4, 0.05892556509887897),\n",
       " (1, 6, -0.04303314829119352),\n",
       " (1, 10, 0.32025630761017426),\n",
       " (1, 12, -0.28867513459481287),\n",
       " (1, 16, -0.45226701686664544),\n",
       " (17, 18, -0.07692307692307693),\n",
       " (17, 22, -0.11322770341445956),\n",
       " (19, 22, 0.4166666666666667),\n",
       " (1, 18, 0.32025630761017426),\n",
       " (1, 22, 0.05892556509887897),\n",
       " (21, 22, 1.0),\n",
       " (3, 5, 0.28867513459481287),\n",
       " (3, 7, 0.05892556509887897),\n",
       " (3, 9, 0.125),\n",
       " (3, 11, -0.16666666666666666),\n",
       " (3, 15, -0.3535533905932738),\n",
       " (3, 13, -0.24019223070763068),\n",
       " (3, 17, -0.24019223070763068),\n",
       " (3, 19, -0.3535533905932738),\n",
       " (3, 23, 0.32025630761017426),\n",
       " (3, 31, 0.32025630761017426),\n",
       " (3, 61, 0.32025630761017426),\n",
       " (3, 21, 0.05892556509887897),\n",
       " (5, 7, 0.0),\n",
       " (5, 9, 0.5773502691896257),\n",
       " (5, 11, -0.28867513459481287),\n",
       " (5, 15, -0.40824829046386296),\n",
       " (5, 13, 0.2773500981126146),\n",
       " (7, 9, 0.47140452079103173),\n",
       " (7, 11, 0.05892556509887897),\n",
       " (7, 15, -0.16666666666666666),\n",
       " (7, 13, -0.11322770341445956),\n",
       " (5, 17, -0.2773500981126146),\n",
       " (5, 19, -0.40824829046386296),\n",
       " (5, 23, -0.2773500981126146),\n",
       " (5, 31, -0.2773500981126146),\n",
       " (5, 61, -0.2773500981126146),\n",
       " (5, 21, -0.40824829046386296),\n",
       " (7, 17, 0.6793662204867574),\n",
       " (7, 19, -0.16666666666666666),\n",
       " (7, 23, -0.11322770341445956),\n",
       " (7, 31, -0.11322770341445956),\n",
       " (7, 61, -0.11322770341445956),\n",
       " (7, 21, -0.16666666666666666),\n",
       " (9, 11, -0.4583333333333333),\n",
       " (9, 15, -0.3535533905932738),\n",
       " (9, 13, 0.32025630761017426),\n",
       " (11, 15, 0.05892556509887897),\n",
       " (11, 13, -0.24019223070763068),\n",
       " (13, 15, -0.11322770341445956),\n",
       " (9, 17, 0.32025630761017426),\n",
       " (9, 19, -0.3535533905932738),\n",
       " (9, 23, -0.24019223070763068),\n",
       " (9, 31, -0.24019223070763068),\n",
       " (9, 61, -0.24019223070763068),\n",
       " (9, 21, -0.3535533905932738),\n",
       " (11, 17, -0.24019223070763068),\n",
       " (11, 19, 0.47140452079103173),\n",
       " (11, 23, 0.32025630761017426),\n",
       " (11, 31, -0.24019223070763068),\n",
       " (11, 61, -0.24019223070763068),\n",
       " (11, 21, 0.47140452079103173),\n",
       " (15, 17, -0.11322770341445956),\n",
       " (15, 19, -0.16666666666666666),\n",
       " (15, 23, -0.11322770341445956),\n",
       " (15, 31, -0.11322770341445956),\n",
       " (15, 61, -0.11322770341445956),\n",
       " (15, 21, -0.16666666666666666),\n",
       " (13, 17, -0.07692307692307693),\n",
       " (13, 19, -0.11322770341445956),\n",
       " (13, 23, -0.07692307692307693),\n",
       " (13, 31, -0.07692307692307693),\n",
       " (13, 61, -0.07692307692307693),\n",
       " (13, 21, -0.11322770341445956),\n",
       " (1, 3, 0.4166666666666667),\n",
       " (1, 5, 0.28867513459481287),\n",
       " (1, 7, 0.05892556509887897),\n",
       " (1, 9, -0.16666666666666666),\n",
       " (1, 11, 0.4166666666666667),\n",
       " (1, 15, -0.3535533905932738),\n",
       " (1, 13, -0.24019223070763068),\n",
       " (17, 19, -0.11322770341445956),\n",
       " (17, 23, -0.07692307692307693),\n",
       " (17, 31, -0.07692307692307693),\n",
       " (17, 61, -0.07692307692307693),\n",
       " (17, 21, -0.11322770341445956),\n",
       " (19, 23, -0.11322770341445956),\n",
       " (19, 31, -0.11322770341445956),\n",
       " (19, 61, -0.11322770341445956),\n",
       " (19, 21, 0.4166666666666667),\n",
       " (23, 31, -0.07692307692307693),\n",
       " (23, 61, -0.07692307692307693),\n",
       " (31, 61, 1.0),\n",
       " (1, 17, -0.24019223070763068),\n",
       " (1, 19, 0.05892556509887897),\n",
       " (1, 23, 0.32025630761017426),\n",
       " (1, 31, -0.24019223070763068),\n",
       " (1, 61, -0.24019223070763068),\n",
       " (1, 21, 0.05892556509887897),\n",
       " (21, 23, 0.6793662204867574),\n",
       " (21, 31, -0.11322770341445956),\n",
       " (21, 61, -0.11322770341445956)]"
      ]
     },
     "execution_count": 16,
     "metadata": {},
     "output_type": "execute_result"
    }
   ],
   "source": [
    "similarity_matrix.collect()"
   ]
  },
  {
   "cell_type": "markdown",
   "metadata": {},
   "source": [
    "### Part 2 - Generate recommendation"
   ]
  },
  {
   "cell_type": "code",
   "execution_count": 17,
   "metadata": {
    "scrolled": false
   },
   "outputs": [],
   "source": [
    "# Generating recommendation for 1 book i.e. Book 10\n",
    "book_number = 21"
   ]
  },
  {
   "cell_type": "code",
   "execution_count": 18,
   "metadata": {
    "scrolled": false
   },
   "outputs": [],
   "source": [
    "#Get top two correlated Books\n",
    "op = similarity_matrix.filter(lambda x: (x[0] == book_number) | (x[1] == book_number)).takeOrdered(2, key = lambda x:-x[2])"
   ]
  },
  {
   "cell_type": "code",
   "execution_count": 19,
   "metadata": {},
   "outputs": [
    {
     "data": {
      "text/plain": [
       "[(21, 22, 1.0), (21, 23, 0.6793662204867574)]"
      ]
     },
     "execution_count": 19,
     "metadata": {},
     "output_type": "execute_result"
    }
   ],
   "source": [
    "op"
   ]
  },
  {
   "cell_type": "code",
   "execution_count": 20,
   "metadata": {},
   "outputs": [
    {
     "name": "stdout",
     "output_type": "stream",
     "text": [
      "Recommendations for book21 are book22 and book23\n"
     ]
    }
   ],
   "source": [
    "recs = []\n",
    "for op in op:\n",
    "    for i in (0,1):\n",
    "        if op[i] != book_number:\n",
    "            recs.append(op[i])\n",
    "\n",
    "print('Recommendations for book'+str(book_number)+ ' are book'+str(recs[0])+' and book'+str(recs[1]))"
   ]
  },
  {
   "cell_type": "markdown",
   "metadata": {},
   "source": [
    "### Generate all recommendations"
   ]
  },
  {
   "cell_type": "code",
   "execution_count": 21,
   "metadata": {},
   "outputs": [],
   "source": [
    "#rev_matrix = similarity_matrix.map(lambda x: (x[1],x[0],x[2]))\n",
    "#all_comb = rev_matrix.union(similarity_matrix)"
   ]
  },
  {
   "cell_type": "code",
   "execution_count": 22,
   "metadata": {},
   "outputs": [
    {
     "data": {
      "text/plain": [
       "[(4, 2, 0.3042903097250923),\n",
       " (2, 4, 0.3042903097250923),\n",
       " (6, 2, 0.24444444444444444),\n",
       " (2, 6, 0.24444444444444444),\n",
       " (10, 2, 0.20672455764868078)]"
      ]
     },
     "execution_count": 22,
     "metadata": {},
     "output_type": "execute_result"
    }
   ],
   "source": [
    "#Using flat map to generate all combinations\n",
    "all_comb = similarity_matrix.flatMap(lambda x: ((x[1],x[0],x[2]),(x[0],x[1],x[2])))\n",
    "all_comb.take(5)"
   ]
  },
  {
   "cell_type": "code",
   "execution_count": 23,
   "metadata": {},
   "outputs": [],
   "source": [
    "def select_top_2(x):\n",
    "    dict_x = dict(x)\n",
    "    a = sorted(dict_x.items() , reverse=True, key=lambda x: x[1])[0][0]\n",
    "    b = sorted(dict_x.items() , reverse=True, key=lambda x: x[1])[1][0]\n",
    "    return (a, b)"
   ]
  },
  {
   "cell_type": "code",
   "execution_count": 24,
   "metadata": {},
   "outputs": [],
   "source": [
    "all_recommendations = all_comb.map(lambda x: (x[0],(x[1],x[2]))).groupByKey().mapValues(lambda x: select_top_2(x)).collect()"
   ]
  },
  {
   "cell_type": "code",
   "execution_count": 25,
   "metadata": {},
   "outputs": [
    {
     "name": "stdout",
     "output_type": "stream",
     "text": [
      "Recommendations for book4 are book9 and book7\n",
      "Recommendations for book12 are book16 and book22\n",
      "Recommendations for book16 are book15 and book13\n",
      "Recommendations for book0 are book9 and book13\n",
      "Recommendations for book5 are book2 and book9\n",
      "Recommendations for book9 are book2 and book0\n",
      "Recommendations for book13 are book0 and book16\n",
      "Recommendations for book17 are book7 and book0\n",
      "Recommendations for book61 are book31 and book6\n",
      "Recommendations for book21 are book22 and book23\n",
      "Recommendations for book1 are book3 and book11\n",
      "Recommendations for book2 are book5 and book9\n",
      "Recommendations for book6 are book7 and book10\n",
      "Recommendations for book10 are book6 and book11\n",
      "Recommendations for book18 are book19 and book11\n",
      "Recommendations for book22 are book21 and book23\n",
      "Recommendations for book3 are book1 and book2\n",
      "Recommendations for book7 are book17 and book6\n",
      "Recommendations for book11 are book22 and book19\n",
      "Recommendations for book15 are book16 and book12\n",
      "Recommendations for book19 are book18 and book11\n",
      "Recommendations for book23 are book22 and book21\n",
      "Recommendations for book31 are book61 and book6\n"
     ]
    }
   ],
   "source": [
    "for x in all_recommendations:\n",
    "    print('Recommendations for book'+str(x[0])+' are book'+str(x[1][0])+' and book'+str(x[1][1]))"
   ]
  },
  {
   "cell_type": "code",
   "execution_count": null,
   "metadata": {},
   "outputs": [],
   "source": []
  }
 ],
 "metadata": {
  "kernelspec": {
   "display_name": "Python 3",
   "language": "python",
   "name": "python3"
  },
  "language_info": {
   "codemirror_mode": {
    "name": "ipython",
    "version": 3
   },
   "file_extension": ".py",
   "mimetype": "text/x-python",
   "name": "python",
   "nbconvert_exporter": "python",
   "pygments_lexer": "ipython3",
   "version": "3.7.4"
  }
 },
 "nbformat": 4,
 "nbformat_minor": 2
}
